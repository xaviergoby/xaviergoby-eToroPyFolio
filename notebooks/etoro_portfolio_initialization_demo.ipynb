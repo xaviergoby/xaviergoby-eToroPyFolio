{
 "cells": [
  {
   "cell_type": "code",
   "execution_count": 44,
   "metadata": {
    "collapsed": true
   },
   "outputs": [],
   "source": [
    "%matplotlib inline\n",
    "import numpy as np\n",
    "import pandas as pd\n",
    "import matplotlib.pyplot as plt\n",
    "from src.xlsx_file_parser import AccStatementParser"
   ]
  },
  {
   "cell_type": "code",
   "execution_count": 45,
   "metadata": {
    "pycharm": {
     "name": "#%%\n"
    }
   },
   "outputs": [
    {
     "name": "stderr",
     "output_type": "stream",
     "text": [
      "C:\\Users\\Xavier\\eToroPyFolio\\src\\xlsx_file_parser.py:87: UserWarning: Boolean Series key will be reindexed to match DataFrame index.\n",
      "  open_orders = remaining_pos_ids.loc[remaining_pos_ids[\"Position ID\"].dropna().index][remaining_pos_ids[\"Type\"] == \"Open Position\"].drop(columns=[\"Type\"])\n"
     ]
    }
   ],
   "source": [
    "portfolio_xlsx_file_name = \"eToroAccountStatement.xlsx\"\n",
    "acc = AccStatementParser(portfolio_xlsx_file_name)"
   ]
  },
  {
   "cell_type": "code",
   "execution_count": 46,
   "metadata": {
    "pycharm": {
     "name": "#%%\n"
    }
   },
   "outputs": [
    {
     "name": "stdout",
     "output_type": "stream",
     "text": [
      "Current Open Orders:    Symbols                 Date    Avg Open        Open        High  \\\n",
      "6     DOCU  2020-06-16 13:30:43  163.995003  164.940002  165.080002   \n",
      "16    ANSS  2020-07-14 16:06:25  296.115005  291.190002  301.269989   \n",
      "52     AMD  2020-08-20 14:30:32   81.254997   79.739998   82.839996   \n",
      "73    QCOM  2020-10-06 13:30:05  119.994999  120.449997  122.519997   \n",
      "\n",
      "           Low       Close   Details  Position ID  Units     Returns  \\\n",
      "6   158.184006  163.050003  DOCU/USD  648633117.0   1.31  100.876546   \n",
      "16  289.079987  301.040009  ANSS/USD  674672561.0   0.32   19.742397   \n",
      "52   79.120003   82.769997   AMD/USD  705227038.0   1.79   26.250352   \n",
      "73  119.099998  119.540001  QCOM/USD  750661750.0   0.42   11.518500   \n",
      "\n",
      "    Returns[%]  Amount  Realized Equity  NWA  \n",
      "6        46.96  214.55          1927.40    0  \n",
      "16       20.83   93.45          1994.09    0  \n",
      "52       18.05  145.55          2051.27    0  \n",
      "73       22.86   50.00          1876.57    0  \n"
     ]
    }
   ],
   "source": [
    "print(f\"Current Open Orders: {acc.open_orders}\")"
   ]
  },
  {
   "cell_type": "code",
   "execution_count": 47,
   "outputs": [],
   "source": [
    "date_created = acc.date_created\n",
    "start_date = acc.start_date\n",
    "end_date = acc.end_date"
   ],
   "metadata": {
    "collapsed": false,
    "pycharm": {
     "name": "#%%\n"
    }
   }
  },
  {
   "cell_type": "code",
   "execution_count": 48,
   "outputs": [],
   "source": [
    "# acc_dt_range = pd.date_range(start='1/1/2018', end='1/08/2018')"
   ],
   "metadata": {
    "collapsed": false,
    "pycharm": {
     "name": "#%%\n"
    }
   }
  },
  {
   "cell_type": "code",
   "execution_count": 49,
   "outputs": [],
   "source": [
    "# date_created"
   ],
   "metadata": {
    "collapsed": false,
    "pycharm": {
     "name": "#%%\n"
    }
   }
  },
  {
   "cell_type": "code",
   "execution_count": 50,
   "outputs": [
    {
     "name": "stdout",
     "output_type": "stream",
     "text": [
      "2020-12-20\n",
      "2020-01-01\n",
      "2020-12-19\n"
     ]
    }
   ],
   "source": [
    "print(date_created.date())\n",
    "print(start_date.date())\n",
    "print(end_date.date())\n"
   ],
   "metadata": {
    "collapsed": false,
    "pycharm": {
     "name": "#%%\n"
    }
   }
  },
  {
   "cell_type": "code",
   "execution_count": 51,
   "outputs": [],
   "source": [
    "acc_dt_range = pd.date_range(start=start_date.date(), end=end_date.date())"
   ],
   "metadata": {
    "collapsed": false,
    "pycharm": {
     "name": "#%%\n"
    }
   }
  },
  {
   "cell_type": "code",
   "execution_count": 52,
   "outputs": [],
   "source": [
    "acc_transactions_report_df_copy = acc.transactions_report.copy()"
   ],
   "metadata": {
    "collapsed": false,
    "pycharm": {
     "name": "#%%\n"
    }
   }
  },
  {
   "cell_type": "code",
   "execution_count": 52,
   "outputs": [],
   "source": [],
   "metadata": {
    "collapsed": false,
    "pycharm": {
     "name": "#%%\n"
    }
   }
  },
  {
   "cell_type": "code",
   "execution_count": 53,
   "outputs": [],
   "source": [
    "acc_transactions_report_dt_idx = pd.to_datetime(acc_transactions_report_df_copy[\"Date\"], format='%Y-%m-%d')"
   ],
   "metadata": {
    "collapsed": false,
    "pycharm": {
     "name": "#%%\n"
    }
   }
  },
  {
   "cell_type": "code",
   "execution_count": 54,
   "outputs": [
    {
     "name": "stdout",
     "output_type": "stream",
     "text": [
      "0    2020-05-26 22:47:22\n",
      "1    2020-05-27 17:15:28\n",
      "2    2020-06-16 00:34:29\n",
      "3    2020-06-16 00:34:29\n",
      "4    2020-06-16 07:00:30\n",
      "             ...        \n",
      "94   2020-12-14 14:30:29\n",
      "95   2020-12-14 14:31:20\n",
      "96   2020-12-16 16:36:52\n",
      "97   2020-12-16 16:36:52\n",
      "98   2020-12-17 01:06:11\n",
      "Name: Date, Length: 99, dtype: datetime64[ns]\n"
     ]
    }
   ],
   "source": [
    "print(acc_transactions_report_dt_idx)"
   ],
   "metadata": {
    "collapsed": false,
    "pycharm": {
     "name": "#%%\n"
    }
   }
  },
  {
   "cell_type": "code",
   "execution_count": 55,
   "outputs": [],
   "source": [
    "transactions_report_copy = acc_transactions_report_df_copy.copy()\n",
    "transactions_report_copy[\"Date\"] = acc_transactions_report_dt_idx"
   ],
   "metadata": {
    "collapsed": false,
    "pycharm": {
     "name": "#%%\n"
    }
   }
  },
  {
   "cell_type": "code",
   "execution_count": 56,
   "outputs": [
    {
     "name": "stdout",
     "output_type": "stream",
     "text": [
      "<class 'pandas.core.frame.DataFrame'>\n"
     ]
    },
    {
     "data": {
      "text/plain": "pandas.core.frame.DataFrame"
     },
     "execution_count": 56,
     "metadata": {},
     "output_type": "execute_result"
    }
   ],
   "source": [
    "print(type(transactions_report_copy))\n",
    "type(transactions_report_copy)\n"
   ],
   "metadata": {
    "collapsed": false,
    "pycharm": {
     "name": "#%%\n"
    }
   }
  },
  {
   "cell_type": "code",
   "execution_count": 57,
   "outputs": [
    {
     "name": "stdout",
     "output_type": "stream",
     "text": [
      "<class 'pandas.core.series.Series'>\n"
     ]
    },
    {
     "data": {
      "text/plain": "pandas.core.series.Series"
     },
     "execution_count": 57,
     "metadata": {},
     "output_type": "execute_result"
    }
   ],
   "source": [
    "print(type(transactions_report_copy[\"Date\"]))\n",
    "type(transactions_report_copy[\"Date\"])"
   ],
   "metadata": {
    "collapsed": false,
    "pycharm": {
     "name": "#%%\n"
    }
   }
  },
  {
   "cell_type": "code",
   "execution_count": 57,
   "outputs": [],
   "source": [],
   "metadata": {
    "collapsed": false,
    "pycharm": {
     "name": "#%%\n"
    }
   }
  }
 ],
 "metadata": {
  "kernelspec": {
   "display_name": "Python 3",
   "language": "python",
   "name": "python3"
  },
  "language_info": {
   "codemirror_mode": {
    "name": "ipython",
    "version": 3
   },
   "file_extension": ".py",
   "mimetype": "text/x-python",
   "name": "python",
   "nbconvert_exporter": "python",
   "pygments_lexer": "ipython3",
   "version": "3.7.8"
  }
 },
 "nbformat": 4,
 "nbformat_minor": 1
}